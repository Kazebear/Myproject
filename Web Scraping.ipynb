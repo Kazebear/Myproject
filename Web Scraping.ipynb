{
 "cells": [
  {
   "cell_type": "code",
   "execution_count": 1,
   "id": "946a3260",
   "metadata": {},
   "outputs": [],
   "source": [
    "import pandas as pd\n",
    "from bs4 import BeautifulSoup\n",
    "import re\n",
    "import requests"
   ]
  },
  {
   "cell_type": "markdown",
   "id": "36729673",
   "metadata": {},
   "source": [
    "### Lấy link ở trang web: 'https://babycuatoi.vn/xep-hinh-thong-minh'"
   ]
  },
  {
   "cell_type": "code",
   "execution_count": 2,
   "id": "c48f212a",
   "metadata": {},
   "outputs": [],
   "source": [
    "page_link = 'https://babycuatoi.vn/xep-hinh-thong-minh'\n",
    "page_response = requests.get(page_link)"
   ]
  },
  {
   "cell_type": "code",
   "execution_count": 3,
   "id": "d0301740",
   "metadata": {},
   "outputs": [],
   "source": [
    "page_content = BeautifulSoup(markup=page_response.content, features=\"html.parser\")"
   ]
  },
  {
   "cell_type": "markdown",
   "id": "5d9a137e",
   "metadata": {},
   "source": [
    "### Lấy danh sách thông tin của sản phẩm"
   ]
  },
  {
   "cell_type": "code",
   "execution_count": 4,
   "id": "89e59711",
   "metadata": {},
   "outputs": [],
   "source": [
    "div = page_content.find_all(name='div', attrs={'class':'product-content'})"
   ]
  },
  {
   "cell_type": "code",
   "execution_count": 5,
   "id": "4c5598a0",
   "metadata": {},
   "outputs": [
    {
     "data": {
      "text/plain": [
       "[<div class=\"product-content\">\n",
       " <div class=\"img\">\n",
       " <a href=\"https://babycuatoi.vn/bo-ban-ghe-lego-da-nang-kem-105-chi-tiet-xep-hinh-co-lon-ug401-2.html\"><img alt=\"Bộ bàn ghế xếp hình LEGO đa năng kèm 105 chi tiết xếp hình cỡ lớn UG401-2\" src=\"https://sudospaces.com/babycuatoi/2021/11/ug401-2-ban-ghe-tre-em-kiem-xep-hinh-lego-cho-be-1-medium.jpg\" title=\"Bộ bàn ghế xếp hình LEGO đa năng kèm 105 chi tiết xếp hình cỡ lớn UG401-2\"/></a>\n",
       " </div>\n",
       " <div class=\"info\">\n",
       " <p class=\"promotion\">\n",
       " <span>KM :</span> \n",
       " \t\t\t\t\tclick để xem KM\n",
       " \t\t\t\t\t\t\t</p>\n",
       " <a href=\"https://babycuatoi.vn/bo-ban-ghe-lego-da-nang-kem-105-chi-tiet-xep-hinh-co-lon-ug401-2.html\"><h3>Bộ bàn ghế xếp hình LEGO đa năng kèm 105 chi tiết xếp hình cỡ lớn UG401-2</h3></a>\n",
       " <div class=\"box-price\">\n",
       " <p class=\"price\">580.000₫</p>\n",
       " <p class=\"label\">-20%</p>\n",
       " </div>\n",
       " <div class=\"star clearfix\">\n",
       " <i class=\"fa fa-star\"></i>\n",
       " <i class=\"fa fa-star\"></i>\n",
       " <i class=\"fa fa-star\"></i>\n",
       " <i class=\"fa fa-star\"></i>\n",
       " <i class=\"fa fa-star\"></i>\n",
       " <span class=\"count-rate\">(1 đánh giá)</span>\n",
       " </div>\n",
       " </div>\n",
       " </div>]"
      ]
     },
     "execution_count": 5,
     "metadata": {},
     "output_type": "execute_result"
    }
   ],
   "source": [
    "div[:1]"
   ]
  },
  {
   "cell_type": "code",
   "execution_count": 6,
   "id": "8b710c12",
   "metadata": {},
   "outputs": [],
   "source": [
    "productlinks = []\n",
    "for product in div:\n",
    "        link = product.find(\"a\").get('href')                \n",
    "        productlinks.append(link)"
   ]
  },
  {
   "cell_type": "code",
   "execution_count": 7,
   "id": "2226c29f",
   "metadata": {},
   "outputs": [
    {
     "data": {
      "text/plain": [
       "['https://babycuatoi.vn/bo-ban-ghe-lego-da-nang-kem-105-chi-tiet-xep-hinh-co-lon-ug401-2.html',\n",
       " 'https://babycuatoi.vn/bo-ban-ghe-lego-da-nang-kem-105-chi-tiet-xep-hinh-co-lon-ug401-1.html',\n",
       " 'https://babycuatoi.vn/bo-ban-choi-lego-da-nang-cho-be-188t-8.html',\n",
       " 'https://babycuatoi.vn/bo-do-choi-xep-hinh-tha-bong-thong-minh-68078.html',\n",
       " 'https://babycuatoi.vn/do-choi-xep-hinh-vuon-bach-thu-tha-bong-thong-minh-cho-be-8803c.html']"
      ]
     },
     "execution_count": 7,
     "metadata": {},
     "output_type": "execute_result"
    }
   ],
   "source": [
    "productlinks[:5]"
   ]
  },
  {
   "cell_type": "code",
   "execution_count": 8,
   "id": "2969fdb7",
   "metadata": {},
   "outputs": [],
   "source": [
    "productnames=[]\n",
    "for product in div:\n",
    "    name = product.find('h3')\n",
    "    productnames.append(name.text.strip())"
   ]
  },
  {
   "cell_type": "code",
   "execution_count": 9,
   "id": "e1e60384",
   "metadata": {},
   "outputs": [
    {
     "data": {
      "text/plain": [
       "['Bộ bàn ghế xếp hình LEGO đa năng kèm 105 chi tiết xếp hình cỡ lớn UG401-2',\n",
       " 'Bộ bàn ghế xếp hình LEGO đa năng kèm 105 chi tiết xếp hình cỡ lớn UG401-1',\n",
       " 'Bộ bàn chơi LEGO đa năng 2 ghế kèm bộ xếp hình 100 chi tiết cỡ lớn 188T-8/188T-9',\n",
       " 'Bộ đồ chơi xếp hình thả bóng thông minh 48 chi tiết 68078',\n",
       " 'Đồ chơi xếp hình cho bé vườn bách thú thả bóng thông minh 168 chi tiết 8803C']"
      ]
     },
     "execution_count": 9,
     "metadata": {},
     "output_type": "execute_result"
    }
   ],
   "source": [
    "productnames[:5]"
   ]
  },
  {
   "cell_type": "code",
   "execution_count": 10,
   "id": "ab3719c2",
   "metadata": {},
   "outputs": [],
   "source": [
    "productprices=[]\n",
    "for product in div:\n",
    "    price = product.find(name='p', attrs={'class':'price'})\n",
    "    productprices.append(float(re.sub('[^0-9]', '',price.get_text())))"
   ]
  },
  {
   "cell_type": "code",
   "execution_count": 11,
   "id": "85d14ab6",
   "metadata": {},
   "outputs": [
    {
     "data": {
      "text/plain": [
       "[580000.0, 580000.0, 1100000.0, 220000.0, 580000.0]"
      ]
     },
     "execution_count": 11,
     "metadata": {},
     "output_type": "execute_result"
    }
   ],
   "source": [
    "productprices[:5]"
   ]
  },
  {
   "cell_type": "code",
   "execution_count": 12,
   "id": "c7f716c4",
   "metadata": {},
   "outputs": [],
   "source": [
    "productdiscount=[]\n",
    "for product in div:\n",
    "    discount= product.find(name='p', attrs={'class':'label'})\n",
    "    if discount != None:\n",
    "        productdiscount.append(float(re.sub('[^0-9]', '',discount.get_text())))\n",
    "    else:\n",
    "        productdiscount.append(0)\n",
    "        "
   ]
  },
  {
   "cell_type": "code",
   "execution_count": 13,
   "id": "9044b2ad",
   "metadata": {},
   "outputs": [
    {
     "data": {
      "text/plain": [
       "[20.0, 20.0, 20.0, 20.0, 20.0]"
      ]
     },
     "execution_count": 13,
     "metadata": {},
     "output_type": "execute_result"
    }
   ],
   "source": [
    "productdiscount[:5]"
   ]
  },
  {
   "cell_type": "code",
   "execution_count": 14,
   "id": "f2a53f4e",
   "metadata": {},
   "outputs": [],
   "source": [
    "div_img = page_content.find_all(name='div', attrs={'class':'img-hover'})"
   ]
  },
  {
   "cell_type": "code",
   "execution_count": 15,
   "id": "54dbed3c",
   "metadata": {
    "scrolled": true
   },
   "outputs": [
    {
     "data": {
      "text/plain": [
       "[<div class=\"img-hover\">\n",
       " <img alt=\"Bộ bàn ghế xếp hình LEGO đa năng kèm 105 chi tiết xếp hình cỡ lớn UG401-2\" src=\"https://sudospaces.com/babycuatoi/2021/11/ug401-2-ban-ghe-tre-em-kiem-xep-hinh-lego-cho-be-1-medium.jpg\" title=\"Bộ bàn ghế xếp hình LEGO đa năng kèm 105 chi tiết xếp hình cỡ lớn UG401-2\"/>\n",
       " </div>,\n",
       " <div class=\"img-hover\">\n",
       " <img alt=\"Bộ bàn ghế xếp hình LEGO đa năng kèm 105 chi tiết xếp hình cỡ lớn UG401-1\" src=\"https://sudospaces.com/babycuatoi/2021/11/ug401-1-ban-ghe-tre-em-kiem-xep-hinh-lego-cho-be-medium.jpg\" title=\"Bộ bàn ghế xếp hình LEGO đa năng kèm 105 chi tiết xếp hình cỡ lớn UG401-1\"/>\n",
       " </div>,\n",
       " <div class=\"img-hover\">\n",
       " <img alt=\"Bộ bàn chơi LEGO đa năng 2 ghế kèm bộ xếp hình 100 chi tiết cỡ lớn 188T-8/188T-9\" src=\"https://sudospaces.com/babycuatoi/2021/01/188t-8-ban-choi-lego-cho-be-medium.jpg\" title=\"Bộ bàn chơi LEGO đa năng 2 ghế kèm bộ xếp hình 100 chi tiết cỡ lớn 188T-8/188T-9\"/>\n",
       " </div>,\n",
       " <div class=\"img-hover\">\n",
       " <img alt=\"Bộ đồ chơi xếp hình thả bóng thông minh 48 chi tiết 68078\" src=\"https://sudospaces.com/babycuatoi/2021/04/68078-do-choi-xep-hinh-tha-bong-cho-be-10-medium.jpg\" title=\"Bộ đồ chơi xếp hình thả bóng thông minh 48 chi tiết 68078\"/>\n",
       " </div>,\n",
       " <div class=\"img-hover\">\n",
       " <img alt=\"Đồ chơi xếp hình cho bé vườn bách thú thả bóng thông minh 168 chi tiết 8803C\" src=\"https://sudospaces.com/babycuatoi/2021/01/8803c-do-choi-xep-hinh-cho-be-medium.jpg\" title=\"Đồ chơi xếp hình cho bé vườn bách thú thả bóng thông minh 168 chi tiết 8803C\"/>\n",
       " </div>,\n",
       " <div class=\"img-hover\">\n",
       " <img alt=\"Bộ bàn chơi LEGO đa năng 1 ghế kèm bộ xếp hình 60 chi tiết cỡ lớn 188T-3\" src=\"https://sudospaces.com/babycuatoi/2021/01/188t-3-ban-ghe-choi-lego-da-nang-cho-be-3-medium.jpg\" title=\"Bộ bàn chơi LEGO đa năng 1 ghế kèm bộ xếp hình 60 chi tiết cỡ lớn 188T-3\"/>\n",
       " </div>,\n",
       " <div class=\"img-hover\">\n",
       " <img alt=\"Đồ chơi xếp hình cho bé thả bóng thông minh 97 chi tiết 8801\" src=\"https://sudospaces.com/babycuatoi/2021/03/8801-do-choi-xep-hinh-cho-be-4-medium.jpg\" title=\"Đồ chơi xếp hình cho bé thả bóng thông minh 97 chi tiết 8801\"/>\n",
       " </div>,\n",
       " <div class=\"img-hover\">\n",
       " <img alt=\"Đồ chơi bảng núm gỗ lắp ráp theo chủ đề BBT Global 333-4\" src=\"https://sudospaces.com/babycuatoi/2021/07/333-4-do-choi-go-lap-rap-hinh-thong-minh-medium.jpg\" title=\"Đồ chơi bảng núm gỗ lắp ráp theo chủ đề BBT Global 333-4\"/>\n",
       " </div>,\n",
       " <div class=\"img-hover\">\n",
       " <img alt=\"Bộ bàn chơi LEGO đa năng kèm 61 chi tiết xếp hình 669-40\" src=\"https://sudospaces.com/babycuatoi/2021/02/669-40-ban-xep-hinh-lego-cho-be-9-medium.jpg\" title=\"Bộ bàn chơi LEGO đa năng kèm 61 chi tiết xếp hình 669-40\"/>\n",
       " </div>,\n",
       " <div class=\"img-hover\">\n",
       " <img alt=\"Đồ chơi xếp hình ngôi nhà trái cây 336 chi tiết 5218\" src=\"https://sudospaces.com/babycuatoi/2022/05/5218-do-choi-xep-hinh-cho-be-1-medium.jpg\" title=\"Đồ chơi xếp hình ngôi nhà trái cây 336 chi tiết 5218\"/>\n",
       " </div>,\n",
       " <div class=\"img-hover\">\n",
       " <img alt=\"Đồ chơi máy gắp thú bông loại lớn 5373\" src=\"https://sudospaces.com/babycuatoi/2021/08/5373-d-do-choi-may-gap-thu-bong-loai-lon-2-medium.jpg\" title=\"Đồ chơi máy gắp thú bông loại lớn 5373\"/>\n",
       " </div>,\n",
       " <div class=\"img-hover\">\n",
       " <img alt=\"Bộ bàn chơi LEGO đa năng 2 ghế kèm 60 chi tiết xếp hình cỡ lớn 188T-4\" src=\"https://sudospaces.com/babycuatoi/2021/07/188t-4-ban-ghe-choi-lego-da-nang-cho-be-7-medium.jpg\" title=\"Bộ bàn chơi LEGO đa năng 2 ghế kèm 60 chi tiết xếp hình cỡ lớn 188T-4\"/>\n",
       " </div>,\n",
       " <div class=\"img-hover\">\n",
       " <img alt=\"Xếp hình thông minh xe cứu hỏa BBT Global 5126\" src=\"https://sudospaces.com/babycuatoi/2021/02/5126-do-choi-xep-hinh-cho-be-1-medium.jpg\" title=\"Xếp hình thông minh xe cứu hỏa BBT Global 5126\"/>\n",
       " </div>,\n",
       " <div class=\"img-hover\">\n",
       " <img alt=\"Đồ chơi xếp hình 3D nam châm ráp ô tô BBT Global 689B\" src=\"https://sudospaces.com/babycuatoi/2020/05/689b-do-choi-xep-hinh-cho-be-1-medium.jpg\" title=\"Đồ chơi xếp hình 3D nam châm ráp ô tô BBT Global 689B\"/>\n",
       " </div>,\n",
       " <div class=\"img-hover\">\n",
       " <img alt=\"Xếp hình thông minh tàu hỏa tuổi thơ BBT Global 5306\" src=\"https://sudospaces.com/babycuatoi/2021/02/5306-do-choi-xep-hinh-cho-be-9-medium.jpg\" title=\"Xếp hình thông minh tàu hỏa tuổi thơ BBT Global 5306\"/>\n",
       " </div>,\n",
       " <div class=\"img-hover\">\n",
       " <img alt=\"Đồ chơi xếp hình cho bé gái siêu thị 490 chi tiết 6571\" src=\"https://sudospaces.com/babycuatoi/2021/12/5571-medium.png\" title=\"Đồ chơi xếp hình cho bé gái siêu thị 490 chi tiết 6571\"/>\n",
       " </div>,\n",
       " <div class=\"img-hover\">\n",
       " <img alt=\"Đồ chơi xếp hình cung điện Elsa SW803\" src=\"https://sudospaces.com/babycuatoi/2021/01/sw803-do-choi-xep-hinh-cho-be-1-medium.jpg\" title=\"Đồ chơi xếp hình cung điện Elsa SW803\"/>\n",
       " </div>,\n",
       " <div class=\"img-hover\">\n",
       " <img alt=\"Đồ chơi xếp hình 3D nam châm 40 chi tiết BBT Global 689-28\" src=\"https://sudospaces.com/babycuatoi/2020/05/689-28-do-choi-xep-hinh-cho-be-1-medium.jpg\" title=\"Đồ chơi xếp hình 3D nam châm 40 chi tiết BBT Global 689-28\"/>\n",
       " </div>,\n",
       " <div class=\"img-hover\">\n",
       " <img alt=\"Đồ chơi xếp hình xe ô tô cho bé trai 336 chi tiết 5105\" src=\"https://sudospaces.com/babycuatoi/2021/12/5105-medium.png\" title=\"Đồ chơi xếp hình xe ô tô cho bé trai 336 chi tiết 5105\"/>\n",
       " </div>,\n",
       " <div class=\"img-hover\">\n",
       " <img alt=\"Đồ chơi xếp hình xe ô tô Lamborghini cho bé 341 chi tiết 5103\" src=\"https://sudospaces.com/babycuatoi/2021/12/5103-medium.png\" title=\"Đồ chơi xếp hình xe ô tô Lamborghini cho bé 341 chi tiết 5103\"/>\n",
       " </div>]"
      ]
     },
     "execution_count": 15,
     "metadata": {},
     "output_type": "execute_result"
    }
   ],
   "source": [
    "div_img"
   ]
  },
  {
   "cell_type": "code",
   "execution_count": 16,
   "id": "1fa6f85f",
   "metadata": {},
   "outputs": [],
   "source": [
    "productimages=[]\n",
    "for product in div_img:\n",
    "    img = product.find(name='img').get('src')\n",
    "    productimages.append(img)"
   ]
  },
  {
   "cell_type": "code",
   "execution_count": 17,
   "id": "491c49bb",
   "metadata": {},
   "outputs": [
    {
     "data": {
      "text/plain": [
       "['https://sudospaces.com/babycuatoi/2021/11/ug401-2-ban-ghe-tre-em-kiem-xep-hinh-lego-cho-be-1-medium.jpg',\n",
       " 'https://sudospaces.com/babycuatoi/2021/11/ug401-1-ban-ghe-tre-em-kiem-xep-hinh-lego-cho-be-medium.jpg',\n",
       " 'https://sudospaces.com/babycuatoi/2021/01/188t-8-ban-choi-lego-cho-be-medium.jpg',\n",
       " 'https://sudospaces.com/babycuatoi/2021/04/68078-do-choi-xep-hinh-tha-bong-cho-be-10-medium.jpg',\n",
       " 'https://sudospaces.com/babycuatoi/2021/01/8803c-do-choi-xep-hinh-cho-be-medium.jpg']"
      ]
     },
     "execution_count": 17,
     "metadata": {},
     "output_type": "execute_result"
    }
   ],
   "source": [
    "productimages[:5]"
   ]
  },
  {
   "cell_type": "code",
   "execution_count": 18,
   "id": "7360fc28",
   "metadata": {},
   "outputs": [],
   "source": [
    "df = pd.DataFrame({'product_name': productnames,\n",
    "                   'product_price': productprices,\n",
    "                   'product_discount':productdiscount,\n",
    "                   'product_link': productlinks,\n",
    "                   'product_imagine': productimages\n",
    "                  })"
   ]
  },
  {
   "cell_type": "code",
   "execution_count": 19,
   "id": "2a545c6c",
   "metadata": {},
   "outputs": [
    {
     "data": {
      "text/html": [
       "<div>\n",
       "<style scoped>\n",
       "    .dataframe tbody tr th:only-of-type {\n",
       "        vertical-align: middle;\n",
       "    }\n",
       "\n",
       "    .dataframe tbody tr th {\n",
       "        vertical-align: top;\n",
       "    }\n",
       "\n",
       "    .dataframe thead th {\n",
       "        text-align: right;\n",
       "    }\n",
       "</style>\n",
       "<table border=\"1\" class=\"dataframe\">\n",
       "  <thead>\n",
       "    <tr style=\"text-align: right;\">\n",
       "      <th></th>\n",
       "      <th>product_name</th>\n",
       "      <th>product_price</th>\n",
       "      <th>product_discount</th>\n",
       "      <th>product_link</th>\n",
       "      <th>product_imagine</th>\n",
       "    </tr>\n",
       "  </thead>\n",
       "  <tbody>\n",
       "    <tr>\n",
       "      <th>0</th>\n",
       "      <td>Bộ bàn ghế xếp hình LEGO đa năng kèm 105 chi t...</td>\n",
       "      <td>580000.0</td>\n",
       "      <td>20.0</td>\n",
       "      <td>https://babycuatoi.vn/bo-ban-ghe-lego-da-nang-...</td>\n",
       "      <td>https://sudospaces.com/babycuatoi/2021/11/ug40...</td>\n",
       "    </tr>\n",
       "    <tr>\n",
       "      <th>1</th>\n",
       "      <td>Bộ bàn ghế xếp hình LEGO đa năng kèm 105 chi t...</td>\n",
       "      <td>580000.0</td>\n",
       "      <td>20.0</td>\n",
       "      <td>https://babycuatoi.vn/bo-ban-ghe-lego-da-nang-...</td>\n",
       "      <td>https://sudospaces.com/babycuatoi/2021/11/ug40...</td>\n",
       "    </tr>\n",
       "    <tr>\n",
       "      <th>2</th>\n",
       "      <td>Bộ bàn chơi LEGO đa năng 2 ghế kèm bộ xếp hình...</td>\n",
       "      <td>1100000.0</td>\n",
       "      <td>20.0</td>\n",
       "      <td>https://babycuatoi.vn/bo-ban-choi-lego-da-nang...</td>\n",
       "      <td>https://sudospaces.com/babycuatoi/2021/01/188t...</td>\n",
       "    </tr>\n",
       "    <tr>\n",
       "      <th>3</th>\n",
       "      <td>Bộ đồ chơi xếp hình thả bóng thông minh 48 chi...</td>\n",
       "      <td>220000.0</td>\n",
       "      <td>20.0</td>\n",
       "      <td>https://babycuatoi.vn/bo-do-choi-xep-hinh-tha-...</td>\n",
       "      <td>https://sudospaces.com/babycuatoi/2021/04/6807...</td>\n",
       "    </tr>\n",
       "    <tr>\n",
       "      <th>4</th>\n",
       "      <td>Đồ chơi xếp hình cho bé vườn bách thú thả bóng...</td>\n",
       "      <td>580000.0</td>\n",
       "      <td>20.0</td>\n",
       "      <td>https://babycuatoi.vn/do-choi-xep-hinh-vuon-ba...</td>\n",
       "      <td>https://sudospaces.com/babycuatoi/2021/01/8803...</td>\n",
       "    </tr>\n",
       "    <tr>\n",
       "      <th>5</th>\n",
       "      <td>Bộ bàn chơi LEGO đa năng 1 ghế kèm bộ xếp hình...</td>\n",
       "      <td>940000.0</td>\n",
       "      <td>20.0</td>\n",
       "      <td>https://babycuatoi.vn/bo-ban-choi-lego-da-nang...</td>\n",
       "      <td>https://sudospaces.com/babycuatoi/2021/01/188t...</td>\n",
       "    </tr>\n",
       "    <tr>\n",
       "      <th>6</th>\n",
       "      <td>Đồ chơi xếp hình cho bé thả bóng thông minh 97...</td>\n",
       "      <td>330000.0</td>\n",
       "      <td>0.0</td>\n",
       "      <td>https://babycuatoi.vn/do-choi-xep-hinh-tha-bon...</td>\n",
       "      <td>https://sudospaces.com/babycuatoi/2021/03/8801...</td>\n",
       "    </tr>\n",
       "    <tr>\n",
       "      <th>7</th>\n",
       "      <td>Đồ chơi bảng núm gỗ lắp ráp theo chủ đề BBT Gl...</td>\n",
       "      <td>40000.0</td>\n",
       "      <td>20.0</td>\n",
       "      <td>https://babycuatoi.vn/do-choi-bang-num-go-lap-...</td>\n",
       "      <td>https://sudospaces.com/babycuatoi/2021/07/333-...</td>\n",
       "    </tr>\n",
       "    <tr>\n",
       "      <th>8</th>\n",
       "      <td>Bộ bàn chơi LEGO đa năng kèm 61 chi tiết xếp h...</td>\n",
       "      <td>366000.0</td>\n",
       "      <td>0.0</td>\n",
       "      <td>https://babycuatoi.vn/bo-ban-choi-lego-da-nang...</td>\n",
       "      <td>https://sudospaces.com/babycuatoi/2021/02/669-...</td>\n",
       "    </tr>\n",
       "    <tr>\n",
       "      <th>9</th>\n",
       "      <td>Đồ chơi xếp hình ngôi nhà trái cây 336 chi tiế...</td>\n",
       "      <td>199000.0</td>\n",
       "      <td>0.0</td>\n",
       "      <td>https://babycuatoi.vn/do-choi-xep-hinh-cho-be-...</td>\n",
       "      <td>https://sudospaces.com/babycuatoi/2022/05/5218...</td>\n",
       "    </tr>\n",
       "  </tbody>\n",
       "</table>\n",
       "</div>"
      ],
      "text/plain": [
       "                                        product_name  product_price  \\\n",
       "0  Bộ bàn ghế xếp hình LEGO đa năng kèm 105 chi t...       580000.0   \n",
       "1  Bộ bàn ghế xếp hình LEGO đa năng kèm 105 chi t...       580000.0   \n",
       "2  Bộ bàn chơi LEGO đa năng 2 ghế kèm bộ xếp hình...      1100000.0   \n",
       "3  Bộ đồ chơi xếp hình thả bóng thông minh 48 chi...       220000.0   \n",
       "4  Đồ chơi xếp hình cho bé vườn bách thú thả bóng...       580000.0   \n",
       "5  Bộ bàn chơi LEGO đa năng 1 ghế kèm bộ xếp hình...       940000.0   \n",
       "6  Đồ chơi xếp hình cho bé thả bóng thông minh 97...       330000.0   \n",
       "7  Đồ chơi bảng núm gỗ lắp ráp theo chủ đề BBT Gl...        40000.0   \n",
       "8  Bộ bàn chơi LEGO đa năng kèm 61 chi tiết xếp h...       366000.0   \n",
       "9  Đồ chơi xếp hình ngôi nhà trái cây 336 chi tiế...       199000.0   \n",
       "\n",
       "   product_discount                                       product_link  \\\n",
       "0              20.0  https://babycuatoi.vn/bo-ban-ghe-lego-da-nang-...   \n",
       "1              20.0  https://babycuatoi.vn/bo-ban-ghe-lego-da-nang-...   \n",
       "2              20.0  https://babycuatoi.vn/bo-ban-choi-lego-da-nang...   \n",
       "3              20.0  https://babycuatoi.vn/bo-do-choi-xep-hinh-tha-...   \n",
       "4              20.0  https://babycuatoi.vn/do-choi-xep-hinh-vuon-ba...   \n",
       "5              20.0  https://babycuatoi.vn/bo-ban-choi-lego-da-nang...   \n",
       "6               0.0  https://babycuatoi.vn/do-choi-xep-hinh-tha-bon...   \n",
       "7              20.0  https://babycuatoi.vn/do-choi-bang-num-go-lap-...   \n",
       "8               0.0  https://babycuatoi.vn/bo-ban-choi-lego-da-nang...   \n",
       "9               0.0  https://babycuatoi.vn/do-choi-xep-hinh-cho-be-...   \n",
       "\n",
       "                                     product_imagine  \n",
       "0  https://sudospaces.com/babycuatoi/2021/11/ug40...  \n",
       "1  https://sudospaces.com/babycuatoi/2021/11/ug40...  \n",
       "2  https://sudospaces.com/babycuatoi/2021/01/188t...  \n",
       "3  https://sudospaces.com/babycuatoi/2021/04/6807...  \n",
       "4  https://sudospaces.com/babycuatoi/2021/01/8803...  \n",
       "5  https://sudospaces.com/babycuatoi/2021/01/188t...  \n",
       "6  https://sudospaces.com/babycuatoi/2021/03/8801...  \n",
       "7  https://sudospaces.com/babycuatoi/2021/07/333-...  \n",
       "8  https://sudospaces.com/babycuatoi/2021/02/669-...  \n",
       "9  https://sudospaces.com/babycuatoi/2022/05/5218...  "
      ]
     },
     "execution_count": 19,
     "metadata": {},
     "output_type": "execute_result"
    }
   ],
   "source": [
    "df.head(10)"
   ]
  },
  {
   "cell_type": "code",
   "execution_count": 20,
   "id": "178dd2b6",
   "metadata": {},
   "outputs": [
    {
     "name": "stdout",
     "output_type": "stream",
     "text": [
      "<class 'pandas.core.frame.DataFrame'>\n",
      "RangeIndex: 20 entries, 0 to 19\n",
      "Data columns (total 5 columns):\n",
      " #   Column            Non-Null Count  Dtype  \n",
      "---  ------            --------------  -----  \n",
      " 0   product_name      20 non-null     object \n",
      " 1   product_price     20 non-null     float64\n",
      " 2   product_discount  20 non-null     float64\n",
      " 3   product_link      20 non-null     object \n",
      " 4   product_imagine   20 non-null     object \n",
      "dtypes: float64(2), object(3)\n",
      "memory usage: 928.0+ bytes\n"
     ]
    }
   ],
   "source": [
    "df.info()"
   ]
  },
  {
   "cell_type": "code",
   "execution_count": 21,
   "id": "1b1d19b5",
   "metadata": {},
   "outputs": [],
   "source": [
    "df.to_csv('Products.csv',index=False)"
   ]
  },
  {
   "cell_type": "markdown",
   "id": "09b37ad4",
   "metadata": {},
   "source": [
    "### Lưu hình ảnh ra file"
   ]
  },
  {
   "cell_type": "code",
   "execution_count": 22,
   "id": "5d42ff1f",
   "metadata": {},
   "outputs": [],
   "source": [
    "image_url = list(df[\"product_imagine\"])"
   ]
  },
  {
   "cell_type": "code",
   "execution_count": 23,
   "id": "2a8c32fe",
   "metadata": {},
   "outputs": [
    {
     "data": {
      "text/plain": [
       "['https://sudospaces.com/babycuatoi/2021/11/ug401-2-ban-ghe-tre-em-kiem-xep-hinh-lego-cho-be-1-medium.jpg',\n",
       " 'https://sudospaces.com/babycuatoi/2021/11/ug401-1-ban-ghe-tre-em-kiem-xep-hinh-lego-cho-be-medium.jpg',\n",
       " 'https://sudospaces.com/babycuatoi/2021/01/188t-8-ban-choi-lego-cho-be-medium.jpg',\n",
       " 'https://sudospaces.com/babycuatoi/2021/04/68078-do-choi-xep-hinh-tha-bong-cho-be-10-medium.jpg',\n",
       " 'https://sudospaces.com/babycuatoi/2021/01/8803c-do-choi-xep-hinh-cho-be-medium.jpg']"
      ]
     },
     "execution_count": 23,
     "metadata": {},
     "output_type": "execute_result"
    }
   ],
   "source": [
    "image_url[:5]"
   ]
  },
  {
   "cell_type": "code",
   "execution_count": 25,
   "id": "a8f6a93a",
   "metadata": {},
   "outputs": [],
   "source": [
    "for image in image_url:\n",
    "    url=image\n",
    "    if url!='':\n",
    "        filename = url.split('/')[-1]\n",
    "        with open(\"images/\" + filename, \"wb\") as f:\n",
    "            img_response = requests.get(url)\n",
    "            f.write(img_response.content)"
   ]
  },
  {
   "cell_type": "code",
   "execution_count": null,
   "id": "dfff117c",
   "metadata": {},
   "outputs": [],
   "source": []
  },
  {
   "cell_type": "code",
   "execution_count": null,
   "id": "743e1b24",
   "metadata": {},
   "outputs": [],
   "source": []
  },
  {
   "cell_type": "code",
   "execution_count": null,
   "id": "dc2b2bc0",
   "metadata": {},
   "outputs": [],
   "source": []
  },
  {
   "cell_type": "code",
   "execution_count": null,
   "id": "0c7a2617",
   "metadata": {},
   "outputs": [],
   "source": []
  },
  {
   "cell_type": "code",
   "execution_count": null,
   "id": "328c9cb4",
   "metadata": {},
   "outputs": [],
   "source": []
  },
  {
   "cell_type": "code",
   "execution_count": null,
   "id": "ad4be1cb",
   "metadata": {},
   "outputs": [],
   "source": []
  },
  {
   "cell_type": "code",
   "execution_count": null,
   "id": "c984e926",
   "metadata": {},
   "outputs": [],
   "source": []
  },
  {
   "cell_type": "code",
   "execution_count": null,
   "id": "345ebcd3",
   "metadata": {},
   "outputs": [],
   "source": []
  },
  {
   "cell_type": "code",
   "execution_count": null,
   "id": "512fac59",
   "metadata": {},
   "outputs": [],
   "source": []
  },
  {
   "cell_type": "code",
   "execution_count": null,
   "id": "a618b19e",
   "metadata": {},
   "outputs": [],
   "source": []
  },
  {
   "cell_type": "code",
   "execution_count": null,
   "id": "ba4925e5",
   "metadata": {},
   "outputs": [],
   "source": []
  },
  {
   "cell_type": "code",
   "execution_count": null,
   "id": "20cf759c",
   "metadata": {},
   "outputs": [],
   "source": []
  }
 ],
 "metadata": {
  "kernelspec": {
   "display_name": "Python 3 (ipykernel)",
   "language": "python",
   "name": "python3"
  },
  "language_info": {
   "codemirror_mode": {
    "name": "ipython",
    "version": 3
   },
   "file_extension": ".py",
   "mimetype": "text/x-python",
   "name": "python",
   "nbconvert_exporter": "python",
   "pygments_lexer": "ipython3",
   "version": "3.8.3"
  }
 },
 "nbformat": 4,
 "nbformat_minor": 5
}
